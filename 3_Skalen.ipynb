{
 "cells": [
  {
   "cell_type": "markdown",
   "metadata": {},
   "source": [
    "# 3. Skalen\n",
    "\n",
    "## 2.1 Grundgesamtheit\n",
    "\n",
    "**Statistische Einheit**\n",
    "- 1 Apfel\n",
    "    - rot\n",
    "    - mittelsüß\n",
    "    - 150g\n",
    "    - 14.09 geertet\n",
    "- 2 Apfel\n",
    "    - grün\n",
    "    - sauer\n",
    "    - 200g\n",
    "    - 04.09 geertet\n",
    "- 3 Apfel\n",
    "    - gelb\n",
    "    - süß\n",
    "    - 190g\n",
    "    - 08.10 geertet\n",
    "\n",
    "Apfel | Farbe | Geschmack | Erntung | Gewicht |\n",
    "--- | --- | --- | --- | ---\n",
    "**1** | rot | mittelsüß | 14.09 | 150g\n",
    "**2** | grün | sauer | 04.09 | 200g\n",
    "**3** | gelb | süß | 08.10 | 190g\n"
   ]
  },
  {
   "cell_type": "markdown",
   "metadata": {},
   "source": [
    "## 3.1 Nominalskala\n",
    "*Mermal Farbe*\n",
    "\n",
    "Zwei Statische Einheiten unterscheiden sich oder nicht `gleich` oder `ungleich`\n",
    "\n",
    "- `=` oder `=/=`\n",
    "\n",
    "Apfel `rot` und `rot` `gleich`\n",
    "Apfel `rot` und `gelb` `ungleich`"
   ]
  },
  {
   "cell_type": "markdown",
   "metadata": {},
   "source": [
    "## 3.2 Ordinalskala\n",
    "*Mermal Geschmack*\n",
    "\n",
    "Zwei Statische Einheiten unterscheiden sich `gleich` oder `ungleich` und lassen sich in eine Ordnung/Reihenfolge bringen `größer` oder `kleiner` als\n",
    "\n",
    "- `=` oder `=/=`\n",
    "- `>` oder `<`\n",
    "\n",
    "Apfel `grün` `>` Apfel  `rot` `>` Apfel  `gelb`"
   ]
  },
  {
   "cell_type": "markdown",
   "metadata": {},
   "source": [
    "## 3.3 Metrische Skalen / Kardinalskalen\n",
    "\n",
    "### 3.3.1 Intervallskala\n",
    "*Mermal Erntung*\n",
    "\n",
    "Zwei Statische Einheiten unterscheiden sich und lassen sich in eine Ordnung/Reihenfolge bringen und man kann Abstände berrechnen.\n",
    "\n",
    "- `=` oder `=/=`\n",
    "- `>` oder `<`\n",
    "- `+` oder `-`\n",
    "\n",
    "Apfel 1 `10 Tage nach` Apfel 2\n",
    "\n",
    "\n",
    "### 3.3.2 Verhältnisskala\n",
    "*Mermal Gewicht*\n",
    "\n",
    "Apfel 1 `besitzt ` $\\frac{3}{4}$ `von` Apfel 2 "
   ]
  },
  {
   "cell_type": "markdown",
   "metadata": {},
   "source": []
  },
  {
   "cell_type": "markdown",
   "metadata": {},
   "source": [
    "---\n",
    "\n",
    "##### Quellen\n",
    "\n",
    "- [Mathematic Fomulars in Markdown](https://csrgxtu.github.io/2015/03/20/Writing-Mathematic-Fomulars-in-Markdown/)\n",
    "- [YouTube - Skalenniveaus](https://www.youtube.com/watch?v=TV4tTtW4UBU)"
   ]
  },
  {
   "cell_type": "code",
   "execution_count": null,
   "metadata": {},
   "outputs": [],
   "source": []
  }
 ],
 "metadata": {
  "kernelspec": {
   "display_name": "Python 3",
   "language": "python",
   "name": "python3"
  },
  "language_info": {
   "codemirror_mode": {
    "name": "ipython",
    "version": 3
   },
   "file_extension": ".py",
   "mimetype": "text/x-python",
   "name": "python",
   "nbconvert_exporter": "python",
   "pygments_lexer": "ipython3",
   "version": "3.7.6"
  }
 },
 "nbformat": 4,
 "nbformat_minor": 4
}
