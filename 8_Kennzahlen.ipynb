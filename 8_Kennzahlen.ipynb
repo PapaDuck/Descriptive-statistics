{
 "cells": [
  {
   "cell_type": "markdown",
   "metadata": {},
   "source": [
    "# 8. Kennzahlen\n",
    "\n",
    "## 7.1 Relative Konzentrationsmessung\n",
    "\n",
    "Kennzahlen sind Quotienten von statistischen Werten, d.h. zwei statistische Zahlen\n",
    "werden zueinander ins Verhältnis gesetzt. Auf diese Weise werden bestimmte Werte\n",
    "erst verständlich, z.B. ist die Zahl von Fehlstücken erst richtig interpretierbar, wenn\n",
    "die Zahl des Gesamtbestands dazu in Beziehung gesetzt wird.\n",
    "\n",
    "- Gliederungszahlen (die Quote)\n",
    "- Beziehungszahlen\n",
    "- Messzahlen\n",
    "\n",
    "*Es werden zwei kumulierte Häufigkeiten gegenübergestellt.\n",
    "Zur Unterscheidung wird der zweiten kumulierten Häufigkeit ein hochgestellter\n",
    "Index (hier in Form eines Sternchens) beigefügt*\n",
    "\n",
    "**Vorgehensschritte:**\n",
    "1. Bilden einer Rangordnung\n",
    "2. Berechnung der Merkmalswertsumme (hier: 173500), indem die absoluten Häufigkeiten hj mit der jeweiligen Klassenmitte (KM) multipliziert und anschließend aufsummiert werden.\n",
    "3. Berechnung der relativen kumulierten Häufigkeiten F und F* für die erste Gesamtheit bzw. die Merkmalssumme\n",
    "\n",
    "**nun können Konzentrationsaussagen durch Gegenüberstellung oder Verknüpfung getroffen werden**\n",
    "\n",
    "Buchpreise (von bis €) | hi(abs. Häufigkeit) | fi(rel. Häufigkeit) | Fi(rel. kum. Häufigkeit) | Klassenmitte (KM) | Hi*= hi * KM | fi*(rel. Häufigkeit) | Fi*(rel. kum. Häufigkeit)\n",
    "--- | --- | --- | --- | --- | --- | --- | ---\n",
    "1 - 20 | 4000 | 0,53 | 0,53 | 10 | 4000 | 0,23 | 0,23\n",
    "20 - 40 | 2500 | 0,33 | 0,86 | 30 | 75000 | 0,43 | 0,66\n",
    "40 - 50 | 800 | 0,11 | 0,97 | 45 | 36000 | 0,21 | 0,87\n",
    "50 - 100 | 300 | 0,04 | 1,00 | 75 | 22500 | 0,13 | 1,00\n",
    ". | 7600 | . | . | . | 173500 | . | .\n",
    "\n",
    "- `F2=0,86` 86 % des Buchbestands kostet unter 40 €.\n",
    "- `F2*=0,66` 66 % des Bestandswertes entfallen auf Bücher unter 40 €.\n",
    "- `F2<->F2*` 86 % des (niedrigpreisigen) Buchbestandes machen 66 % des gesamten Bestandswertes aus.\n",
    "- `f4<->f4*=` 4 % des (hochpreisigen) Buchbestandes machen 13 % des gesamten Bestandswertes aus."
   ]
  },
  {
   "cell_type": "markdown",
   "metadata": {},
   "source": [
    "### 7.1.1 Lorenzkurve\n",
    "```\n",
    "Die Lorenzkurve dient als graphische Veranschaulichung der relativen Konzentration\n",
    "und wurde benannt nach Max Lorenz (1876-1959).\n",
    "```\n",
    "- Auf der Abszisse (x-Achse) wird Fi bzw. die erste Gesamtheit der Merkmalsträger aufgebracht.\n",
    "- Auf der Ordinate (y-Achse) wird Fi* bzw. die Merkmalswertsumme aufgebracht (über F=1)\n",
    "*xxx*\n",
    "\n",
    "**Allgemein gilt:** *Je dichter die Lorenzkurve der Gleichheitsgeraden kommt (je kleiner\n",
    "die Fläche F), desto geringer ist die Konzentration, je entfernter sie ist (je größer die\n",
    "Fläche F), desto größer ist die Konzentration.*\n",
    "\n",
    "**Farbe**\n",
    "- 10 ml\n",
    "- 5 ml\n",
    "- 50 ml\n",
    "- 20 ml\n",
    "- 15 ml"
   ]
  },
  {
   "cell_type": "code",
   "execution_count": 3,
   "metadata": {},
   "outputs": [],
   "source": [
    "#Nötige Imports\n",
    "import numpy as np\n",
    "import matplotlib.pyplot as plt"
   ]
  },
  {
   "cell_type": "code",
   "execution_count": 6,
   "metadata": {},
   "outputs": [
    {
     "data": {
      "image/png": "[encoded data removed]",
      "text/plain": [
       "<Figure size 432x432 with 1 Axes>"
      ]
     },
     "metadata": {
      "needs_background": "light"
     },
     "output_type": "display_data"
    }
   ],
   "source": [
    "farbe=[0.06,0.22,0.57,0.85,0.99,1]\n",
    "\n",
    "ya=[0.02,0.12,0.41,0.74,0.98,1]\n",
    "farbe.sort()\n",
    "\n",
    "fig,lk = plt.subplots(figsize=[6,6])\n",
    "höhe=1/len(farbe)\n",
    "x=0\n",
    "y=0\n",
    "x1=0\n",
    "y1=0\n",
    "\n",
    "for i in farbe:\n",
    "    \n",
    "    y1+=i/10\n",
    "    for j in ya:\n",
    "        x1+=j/10\n",
    "        lk.scatter(x1,y1, marker='x', color='darkgreen', s=100)\n",
    "    \n",
    "    \n",
    "lk.plot([0,1], color=\"#000000\")\n",
    "plt.show()\n"
   ]
  },
  {
   "cell_type": "markdown",
   "metadata": {},
   "source": [
    "### 7.1.2 Gini-Koeffizient (GK)\n",
    "```\n",
    "Der Gini-Koeffizient drückt den Grad der Konzentration in einem einzigen Wert aus.\n",
    "Dies dient dazu, Konzentrationen im Vergleich und über längere Zeiträume hinweg\n",
    "besser beurteilen zu können.\n",
    "```\n",
    "\n",
    "$GK=1-\\sum_{n}^{1}f_{i}*(F_{i-l}^*+F_i^*)$   mit $F_0^*=0$\n",
    "\n",
    "Rang | Farbe in ml\n",
    "--- | ---\n",
    "1 | 5\n",
    "2 | 10\n",
    "3 | 15\n",
    "4 | 20\n",
    "5 | 50"
   ]
  },
  {
   "cell_type": "code",
   "execution_count": 20,
   "metadata": {},
   "outputs": [
    {
     "name": "stdout",
     "output_type": "stream",
     "text": [
      "Der Gini-Koeffizient ist: 0.4\n"
     ]
    }
   ],
   "source": [
    "farbe=[10,5,50,20,15]\n",
    "\n",
    "def gini(x):\n",
    "    x.sort()\n",
    "    a={}\n",
    "    rang=1\n",
    "    mw=0\n",
    "    g=0\n",
    "    for i in x:\n",
    "        a[rang]=i\n",
    "        rang+=1\n",
    "        mw+=i\n",
    "    for y,z in a.items():\n",
    "        g+=(y*z)\n",
    "    g=((g*2)-(len(x)+1)*mw)/(len(x)*mw)\n",
    "    return print(\"Der Gini-Koeffizient ist: \"+str(g))\n",
    "\n",
    "gini(farbe)"
   ]
  },
  {
   "cell_type": "markdown",
   "metadata": {},
   "source": [
    "## 7.2 Absolute Konzentrationsmessung\n",
    "\n",
    "Die absolute Konzentrationsmessung stellt fest,\n",
    "- welche (absolute) Anzahl der Merkmalsträger auf\n",
    "- welchen (prozentualen) Anteil der Merkmalswertsumme entfällt.\n",
    "\n",
    "Die Berechnung erfolgt auf die gleiche Weise wie bei der relativen Konzentrationsmessung,\n",
    "es wird lediglich die relative kumulierte Häufigkeit gegen die absolute kumulierte\n",
    "Häufigkeit getauscht."
   ]
  },
  {
   "cell_type": "markdown",
   "metadata": {},
   "source": [
    "---\n",
    "\n",
    "##### Quellen\n",
    "\n",
    "- [YouTube - Gini-Koeffizient](https://www.youtube.com/watch?v=CqxtVby0ljs)"
   ]
  },
  {
   "cell_type": "code",
   "execution_count": null,
   "metadata": {},
   "outputs": [],
   "source": []
  }
 ],
 "metadata": {
  "kernelspec": {
   "display_name": "Python 3",
   "language": "python",
   "name": "python3"
  },
  "language_info": {
   "codemirror_mode": {
    "name": "ipython",
    "version": 3
   },
   "file_extension": ".py",
   "mimetype": "text/x-python",
   "name": "python",
   "nbconvert_exporter": "python",
   "pygments_lexer": "ipython3",
   "version": "3.7.6"
  }
 },
 "nbformat": 4,
 "nbformat_minor": 4
}
