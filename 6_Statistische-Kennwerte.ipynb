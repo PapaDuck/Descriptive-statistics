{
 "cells": [
  {
   "cell_type": "markdown",
   "metadata": {},
   "source": [
    "# 6. Statistische Kennwerte / Maßzahlen\n",
    "\n",
    "## 6.1 Mittelwerte\n",
    "\n"
   ]
  },
  {
   "cell_type": "markdown",
   "metadata": {},
   "source": [
    "### 6.1.1 Modalwert / Modus\n",
    "```\n",
    "Der Modalwert ist derjenige Wert einer Verteilung, der am häufigsten besetzt ist\n",
    "(beobachtet wurde), bzw. in der graphischen Darstellung der Wert, bei der die\n",
    "Verteilung ihr Maximum hat.\n",
    "```\n",
    "\n",
    "*xxx*"
   ]
  },
  {
   "cell_type": "code",
   "execution_count": 255,
   "metadata": {},
   "outputs": [],
   "source": [
    "#Nötigen imports\n",
    "import pandas as pd\n",
    "import matplotlib.pyplot as plt\n",
    "import seaborn as sns\n",
    "import statistics as st"
   ]
  },
  {
   "cell_type": "code",
   "execution_count": 256,
   "metadata": {},
   "outputs": [
    {
     "name": "stdout",
     "output_type": "stream",
     "text": [
      "\n",
      "Modalwert ist: 3\n"
     ]
    }
   ],
   "source": [
    "test1=[1,4,9,3,1,5,8,3,6,12,15,7,3,0,7,15,10,11,4,16,6,16,19,2,6,2,3]\n",
    "\n",
    "def modalwert(x):\n",
    "    modal={}\n",
    "    for i in x:\n",
    "        if i in modal:\n",
    "            modal[i]+=1\n",
    "        else:\n",
    "            modal[i]=1\n",
    "    print()\n",
    "    for a, b in sorted(modal.items(), key=lambda b: b[1], reverse=True):\n",
    "        return print(\"Modalwert ist: %s\" % (a))\n",
    "\n",
    "modalwert(test1)"
   ]
  },
  {
   "cell_type": "markdown",
   "metadata": {},
   "source": [
    "### 6.1.2 Medianwert (Zentralwert)\n",
    "```\n",
    "Der Median ist derjenige Wert, der die Verteilung in zwei gleich große Hälften\n",
    "teilt (50 : 50)\n",
    "\n",
    "Zur Bestimmung des Medians müssen die Merkmalswerte in eine Rangfolge gebracht\n",
    "werden. Daraus folgt, dass der Median nur dann bestimmt werden kann, wenn\n",
    "das Merkmal mindestens ordinal skaliert ist.\n",
    "```\n",
    "\n",
    "1. **ungerade n**\n",
    " - $Median=\\frac{1}{2}(x[\\frac{n}{2}]+x[\\frac{n}{2}+1]$\n",
    "\n",
    "\n",
    "2. **gerade n**\n",
    " - $Median=x[\\frac{n+1}{2}]$\n",
    "\n",
    "*xxx*"
   ]
  },
  {
   "cell_type": "code",
   "execution_count": 257,
   "metadata": {},
   "outputs": [
    {
     "name": "stdout",
     "output_type": "stream",
     "text": [
      "Medianwert ist: 25\n",
      "\n",
      "Medianwert ist: 27\n"
     ]
    }
   ],
   "source": [
    "test1=[62,29,53,24,25,18,21,20,49]\n",
    "test2=[18,20,21,24,25,29,32,49,53,62]\n",
    "\n",
    "def medianwert(x):\n",
    "    x.sort()\n",
    "    median=0\n",
    "    median_len=len(x)\n",
    "    if median_len%2:\n",
    "        #ungerades n\n",
    "        median_len=((median_len+1)/2)-1\n",
    "        median=x[int(median_len)]\n",
    "        return print(\"Medianwert ist: \"+str(median))\n",
    "    else:\n",
    "        #gerades n\n",
    "        median_len1=int((median_len)/2)-1\n",
    "        median_len2=(median_len1+1)\n",
    "        median=(x[median_len1]+x[median_len2])/2\n",
    "        return print(\"Medianwert ist: \"+str(int(median)))\n",
    "\n",
    "\n",
    "medianwert(test1)\n",
    "print()\n",
    "medianwert(test2)"
   ]
  },
  {
   "cell_type": "markdown",
   "metadata": {},
   "source": [
    "### 6.1.3 Arithmetisches Mittel (AM) / Durchschnitt\n",
    "```\n",
    "Dies ist der gebräuchlichste Wert der zentralen Tendenz. Er wird berechnet, indem\n",
    "die Summe aller Merkmalswerte durch die Anzahl der Merkmalsträger dividiert wird\n",
    "```\n",
    "$AM=\\overline{x}=\\frac{1}{n} \\sum_{i=l}^{n} x_{i}$\n",
    "\n",
    "**Messwerte:** $x_1;x_2;...;x_k$\n",
    "\n",
    "**Formel:** $\\overline{x}=\\frac{x_1+x_2+...+x_k}{k}$\n",
    "\n",
    "*Einkaufspreise pro Mütze*\n",
    "- 1x Mütze 10,- €\n",
    "- 1x Mütze 12,- €\n",
    "- 1x Mütze 17,- €\n",
    "\n",
    "$\\frac{10+12+17}{3}=\\frac{39}{3}=13$"
   ]
  },
  {
   "cell_type": "code",
   "execution_count": 258,
   "metadata": {},
   "outputs": [
    {
     "name": "stdout",
     "output_type": "stream",
     "text": [
      "Arithmetisches Mittel ist: 33.44444444444444\n"
     ]
    }
   ],
   "source": [
    "test1=[62,29,53,24,25,18,21,20,49]\n",
    "\n",
    "def arithmetischesmittel(x):\n",
    "    am=0\n",
    "    anzahl=len(x)\n",
    "    for i in x:\n",
    "        am+=i\n",
    "    am=am/anzahl\n",
    "    return print(\"Arithmetisches Mittel ist: \"+str(am))\n",
    "\n",
    "arithmetischesmittel(test1)"
   ]
  },
  {
   "cell_type": "markdown",
   "metadata": {},
   "source": [
    "#### Gewogenes arithmetisches Mittel\n",
    "```\n",
    "\n",
    "```\n",
    "**Messwerte:** $x_1;x_2;...;x_k$\n",
    "\n",
    "**Gewichte:** $n_1;n_2;...;n_k$\n",
    "\n",
    "**Formel:** $\\overline{x}=\\frac{n_1*x_1+n_2*x_2+...+n_k*x_k}{n_1+n_2+...+n}$\n",
    "\n",
    "*Einkaufspreise pro Mütze*\n",
    "- 3x Mütze 10,- €\n",
    "- 1x Mütze 12,- €\n",
    "- 1x Mütze 17,- €\n",
    "\n",
    "$\\frac{3*10+1*12+1*17}{3+1+1}=\\frac{59}{5}=11,80$"
   ]
  },
  {
   "cell_type": "markdown",
   "metadata": {},
   "source": [
    "### 6.1.4 Geometrisches Mittel (GM)\n",
    "```\n",
    "Das geometrische Mittel ist nicht mit dem AM vergleichbar, da es nicht direkt mit der\n",
    "Vorstellung von „Mitte“ zu tun hat. Es dient zur Mittelung von Entwicklungsschritten\n",
    "(Merkmal Gewinn) in einem bestimmten Zeitablauf. Die Merkmalswerte (Wachstumsfaktoren)\n",
    "beschreiben damit in Form eines Faktors das relative Wachstum bzw. die\n",
    "Vervielfachung einer Größe. Voraussetzung: alle Werte müssen positiv sein.\n",
    "```\n",
    "\n",
    "$GM={\\sqrt[{n}]{x_{1}*x_{2}*x_{3}*\\cdots x_{n}}}=\\sqrt[n]{\\prod _{i=1}^{n}x_{i}}$\n",
    "\n",
    "*xxx*"
   ]
  },
  {
   "cell_type": "code",
   "execution_count": 259,
   "metadata": {},
   "outputs": [
    {
     "name": "stdout",
     "output_type": "stream",
     "text": [
      "Geometrisches Mittel ist: 1.1448241707814266\n",
      "Die durchschnittliche Wachstumsrate beträgt damit: 14.48%\n"
     ]
    }
   ],
   "source": [
    "test1=[120000,138000,165600,157320,188784,235980]\n",
    "\n",
    "def geometrischesmittel(x):\n",
    "    gm=0\n",
    "    a=0\n",
    "    c=x[1]/x[0]\n",
    "    anzahl=len(x)\n",
    "    for i in x:\n",
    "        if a>=2:\n",
    "            b=x[a]/x[a-1]\n",
    "            c*=b\n",
    "        a+=1\n",
    "    gm=(c**(1.0/float(anzahl-1)))\n",
    "    return print(\"Geometrisches Mittel ist: \"+str(gm)+\"\\nDie durchschnittliche Wachstumsrate beträgt damit: \"+str(round((gm-1)*100,2))+\"%\")\n",
    "\n",
    "\n",
    "geometrischesmittel(test1)"
   ]
  },
  {
   "cell_type": "markdown",
   "metadata": {},
   "source": [
    "### 6.3 Streuungsmaße / Dispersionsmaße\n",
    "```\n",
    "Ähneln sich zwei Verteilungen hinsichtlich ihrer zentralen Tendenz, können sie dennoch\n",
    "aufgrund unterschiedlicher Streuungen (Dispersionen) der einzelnen Werte\n",
    "stark voneinander abweichen. Während Maße der zentralen Tendenz angeben,\n",
    "durch welchen Wert eine Verteilung am besten repräsentiert ist, informieren die\n",
    "Streuungsmaße über die Unterschiedlichkeit der Werte.\n",
    "```\n",
    "\n",
    "*xxx*\n",
    "\n",
    "Arbeitstag | Patrick(h) | Anna(h)\n",
    "--- | --- | ---\n",
    "**Mo** | 8,5 | 12\n",
    "**Di** | 10 | 5\n",
    "**Mi** | 8 | 14\n",
    "**Do** | 9 | 6\n",
    "**Fr** | 9,5 | 8\n",
    "\n",
    "*Bei beiden, sowohl Patrick als auch Anna gilt:*\n",
    "\n",
    "$\\overline{x}=45:5=9$"
   ]
  },
  {
   "cell_type": "code",
   "execution_count": 260,
   "metadata": {},
   "outputs": [
    {
     "data": {
      "image/png": "[encoded data removed]",
      "text/plain": [
       "<Figure size 432x288 with 1 Axes>"
      ]
     },
     "metadata": {
      "needs_background": "light"
     },
     "output_type": "display_data"
    }
   ],
   "source": [
    "d = {\"Stunden\": [8.5,10,8,9,9.5,12,5,14,6,8], \"Person\": [\"Patrick\", \"Patrick\", \"Patrick\", \"Patrick\", \"Patrick\", \"Anna\",  \"Anna\",  \"Anna\",  \"Anna\",  \"Anna\"]}\n",
    "df = pd.DataFrame(data=d)\n",
    "df\n",
    "\n",
    "at_sp = sns.stripplot(data=df, y=\"Stunden\", x=\"Person\", jitter=\"0\")\n",
    "at_sp.set(ylabel=\"Arbeitsstunden\", xlabel=\"Person\")\n",
    "at_sp.set_title(\"Gleiche durchschnittliche Arbeitszeit $\\overline{x}=45:5=9$\")\n",
    "\n",
    "pmed = df.loc[df[\"Person\"] == \"Patrick\"].median()[\"Stunden\"]\n",
    "amed = df.loc[df[\"Person\"] == \"Anna\"].median()[\"Stunden\"]\n",
    "\n",
    "x = plt.gca().axes.get_xlim()\n",
    "plt.plot(x, len(x) * [pmed], sns.xkcd_rgb[\"pale red\"])\n",
    "\n",
    "plt.show()"
   ]
  },
  {
   "cell_type": "markdown",
   "metadata": {},
   "source": [
    "### 6.3.1 Variationsbreite / Spannweite (R – Range)\n",
    "```\n",
    "Die Variationsbreite ist das einfachste Dispersionsmaß, wird auch als ”range” bezeichnet.\n",
    "Ihm kann entnommen werden, in welchem Bereich sich die Messwerte befinden.\n",
    "Er wird aus der Differenz zwischen dem größten und kleinsten Wert ermittelt.\n",
    "```\n",
    "\n",
    " $R=x_\\max-x_\\min$"
   ]
  },
  {
   "cell_type": "code",
   "execution_count": 261,
   "metadata": {},
   "outputs": [
    {
     "name": "stdout",
     "output_type": "stream",
     "text": [
      "Die Spannweite ist: 2\n",
      "Die Spannweite ist: 9\n"
     ]
    }
   ],
   "source": [
    "pat=[8.5,10,8,9,9.5]\n",
    "ann=[12,5,14,6,8]\n",
    "\n",
    "def spannweite(x):\n",
    "    sw=0\n",
    "    sw_min=min(x)\n",
    "    sw_max=max(x)\n",
    "    sw=sw_max-sw_min\n",
    "    return print(\"Die Spannweite ist: \"+str(sw))\n",
    "\n",
    "spannweite(pat)\n",
    "spannweite(ann)"
   ]
  },
  {
   "cell_type": "markdown",
   "metadata": {},
   "source": [
    "### 6.3.3 AD-Streuung / mittlere absolute Abweichung\n",
    "```\n",
    "Die AD-Streuung (Average Deviation) gibt die durchschnittliche Entfernung aller\n",
    "Merkmalswerte vom arithmetischen Mittel an und ist daher informationsreicher\n",
    "als die Streubreiten aller oder einiger Werte.\n",
    "```\n",
    "\n",
    "*xxx*\n",
    "\n",
    "*Bei beiden, sowohl Patrick als auch Anna gilt:*\n",
    "\n",
    " $AD=\\frac{\\sum| x_i-  \\overline{x} |* h_i }{n}$"
   ]
  },
  {
   "cell_type": "code",
   "execution_count": 262,
   "metadata": {},
   "outputs": [
    {
     "name": "stdout",
     "output_type": "stream",
     "text": [
      "Die Mittlere absolute Abweichung ist: 0.6\n",
      "Die Mittlere absolute Abweichung ist: 3.2\n"
     ]
    }
   ],
   "source": [
    "pat=[8.5,10,8,9,9.5]\n",
    "ann=[12,5,14,6,8]\n",
    "\n",
    "def streumass(x):\n",
    "    sw=0\n",
    "    mittel=st.mean(x)\n",
    "    for i in x:\n",
    "        a=mittel-i\n",
    "        if a < 0:\n",
    "            a=a*-1\n",
    "        sw+=a\n",
    "    sw=sw/len(x)\n",
    "    return print(\"Die Mittlere absolute Abweichung ist: \"+str(sw))\n",
    "\n",
    "streumass(pat)\n",
    "streumass(ann)"
   ]
  },
  {
   "cell_type": "markdown",
   "metadata": {},
   "source": [
    "### 6.3.4 Varianz / Streuung\n",
    "```\n",
    "Varianz und Standardabweichung sind die gebräuchlichsten Maße zur\n",
    "Kennzeichnung der Streuung einer Verteilung2. Wie auch bei der AD-Streuung werden\n",
    "bei der Ermittlung der Varianz sämtliche Werte einzeln berücksichtigt, was eine\n",
    "treffendere Beschreibung der gesamten Variabilität aller Werte ermöglicht. Varianz,\n",
    "Standard-Abweichung und auch AD-Streuung setzen metrisch skalierte Merkmale\n",
    "voraus.\n",
    "```\n",
    "\n",
    "$s^2=\\frac{\\sum\\nolimits_{i=l}^{n}( x_i-  \\overline{x})^2* h_i }{n}$"
   ]
  },
  {
   "cell_type": "code",
   "execution_count": null,
   "metadata": {},
   "outputs": [],
   "source": []
  },
  {
   "cell_type": "markdown",
   "metadata": {},
   "source": [
    "### 6.3.5 Standardabweichung\n",
    "```\n",
    "Da ein quadriertes Maß nur schwer interpretierbar ist, wird die Quadrierung gewissermaßen\n",
    "wieder rückgängig gemacht, indem man die Quadratwurzel aus der Varianz\n",
    "berechnet. Der positive Wert dieser Wurzel wird als Standardabweichung bezeichnet\n",
    "```\n",
    "\n",
    "$s=\\sqrt{s^2}=\\sqrt{\\frac{\\sum\\nolimits_{i=l}^{n}( x_i-  \\overline{x})^2* h_i }{n}}$"
   ]
  },
  {
   "cell_type": "code",
   "execution_count": 263,
   "metadata": {},
   "outputs": [
    {
     "name": "stdout",
     "output_type": "stream",
     "text": [
      "Die Standardabweichung beträgt: 0.7\n",
      "Die Standardabweichung beträgt: 3.5\n"
     ]
    }
   ],
   "source": [
    "pat=[8.5,10,8,9,9.5]\n",
    "ann=[12,5,14,6,8]\n",
    "\n",
    "def standardabweichung(x):\n",
    "    sa=0\n",
    "    erw = sum(x) / len(x)\n",
    "    erw2 = sum(item**2 for item in x) / len(x)\n",
    "    var = erw2 - erw**2\n",
    "    sa = var**0.5\n",
    "    sa=round(sa,1)\n",
    "    return print(\"Die Standardabweichung beträgt: \"+str(sa))\n",
    "\n",
    "standardabweichung(pat)\n",
    "standardabweichung(ann)"
   ]
  },
  {
   "cell_type": "markdown",
   "metadata": {},
   "source": [
    "### 6.3.6 Variationskoeffizient (VK)\n",
    "```\n",
    "Häufig wächst die Streuung mit der Größe der Merkmalswerte. Beispiel: Die Zuschauerzahlen\n",
    "eines Bundesligavereins schwanken sicher stärker als bei einem Regionalligisten;\n",
    "Aktien mit hohen Kursen haben meist stärkere Kursschwankungen als\n",
    "Aktien mit niedrigen Kursen. Will man die Streuung aber unabhängig von solchen\n",
    "Größeneinflüssen berechnen, muss eine relative, größenunabhängige Streuung ermittelt\n",
    "werden. Diese Größe nennt man Variationskoeffizient.\n",
    "```"
   ]
  },
  {
   "cell_type": "code",
   "execution_count": 264,
   "metadata": {},
   "outputs": [
    {
     "name": "stdout",
     "output_type": "stream",
     "text": [
      "Der Variationskoeffizient beträgt: 0.06\n",
      "Der Variationskoeffizient beträgt: 0.66\n"
     ]
    }
   ],
   "source": [
    "pat=[100000,95000,105000,108000,92000]\n",
    "ann=[9000,4000,14000,1000,17000]\n",
    "\n",
    "def standardabweichung(x):\n",
    "    sa=0\n",
    "    am=st.mean(x)\n",
    "    erw = sum(x) / len(x)\n",
    "    erw2 = sum(item**2 for item in x) / len(x)\n",
    "    var = erw2 - erw**2\n",
    "    sa = var**0.5\n",
    "    sa=sa/am\n",
    "    sa=round(sa,2)\n",
    "    return print(\"Der Variationskoeffizient beträgt: \"+str(sa))\n",
    "\n",
    "standardabweichung(pat)\n",
    "standardabweichung(ann)"
   ]
  },
  {
   "cell_type": "markdown",
   "metadata": {},
   "source": [
    "---\n",
    "\n",
    "##### Quellen\n",
    "\n",
    "- [YouTube - Streumaße](https://www.youtube.com/watch?v=3oZrS3ZWVcA)\n",
    "- [Latex 4 Technics](https://www.latex4technics.com/)"
   ]
  },
  {
   "cell_type": "code",
   "execution_count": null,
   "metadata": {},
   "outputs": [],
   "source": []
  }
 ],
 "metadata": {
  "kernelspec": {
   "display_name": "Python 3",
   "language": "python",
   "name": "python3"
  },
  "language_info": {
   "codemirror_mode": {
    "name": "ipython",
    "version": 3
   },
   "file_extension": ".py",
   "mimetype": "text/x-python",
   "name": "python",
   "nbconvert_exporter": "python",
   "pygments_lexer": "ipython3",
   "version": "3.7.6"
  }
 },
 "nbformat": 4,
 "nbformat_minor": 4
}
