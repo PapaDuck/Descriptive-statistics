{
 "cells": [
  {
   "cell_type": "markdown",
   "metadata": {},
   "source": [
    "# 2. Statistische Grundbegriffe\n",
    "\n",
    "## xxx\n",
    "\n",
    "**Statistische Einheit**\n",
    "- Schuhe\n",
    "\n",
    "**Grundgesamtheit**\n",
    "- Schuh 1\n",
    "- Schuh 2\n",
    "- Schuh 3\n",
    "\n",
    "**Merkmale**\n",
    "- Farbe\n",
    "- Sommerlich\n",
    "- Preis\n",
    "- Material\n",
    "\n",
    "**Mermalsausprägung**\n",
    "- rot/schwarz\n",
    "- ja/nein\n",
    "- Preis\n",
    "- Textil\n",
    "welche Merkmale betrachtet wertden soll, hängt von der Fragestellung ab."
   ]
  },
  {
   "cell_type": "markdown",
   "metadata": {},
   "source": [
    "## 2.1 Grundgesamtheit / Kollektiv / statistische Gesamtheit"
   ]
  },
  {
   "cell_type": "markdown",
   "metadata": {},
   "source": [
    "## 2.2 Merkmalsträger / Untersuchungseinheit / statistische Einheit"
   ]
  },
  {
   "cell_type": "markdown",
   "metadata": {},
   "source": [
    "## 2.3 Merkmal / Merkmalswert / Merkmalsausprägung"
   ]
  },
  {
   "cell_type": "markdown",
   "metadata": {},
   "source": [
    "## 2.4 Merkmalsarten"
   ]
  },
  {
   "cell_type": "markdown",
   "metadata": {},
   "source": [
    "---\n",
    "\n",
    "##### Quellen\n",
    "\n",
    "- [Mathematic Fomulars in Markdown](https://csrgxtu.github.io/2015/03/20/Writing-Mathematic-Fomulars-in-Markdown/)\n",
    "- [YouTube - Statistische Grundbegriffe](https://www.youtube.com/watch?v=bJsBcLjke3Q)"
   ]
  },
  {
   "cell_type": "code",
   "execution_count": null,
   "metadata": {},
   "outputs": [],
   "source": []
  }
 ],
 "metadata": {
  "kernelspec": {
   "display_name": "Python 3",
   "language": "python",
   "name": "python3"
  },
  "language_info": {
   "codemirror_mode": {
    "name": "ipython",
    "version": 3
   },
   "file_extension": ".py",
   "mimetype": "text/x-python",
   "name": "python",
   "nbconvert_exporter": "python",
   "pygments_lexer": "ipython3",
   "version": "3.7.6"
  }
 },
 "nbformat": 4,
 "nbformat_minor": 4
}
